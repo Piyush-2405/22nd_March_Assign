{
 "cells": [
  {
   "cell_type": "markdown",
   "id": "b0f533a6-797a-4d8f-a437-598ce1425615",
   "metadata": {},
   "source": [
    "Q1. Pearson correlation coefficient is a measure of the linear relationship between two variables. Suppose\n",
    "you have collected data on the amount of time students spend studying for an exam and their final exam\n",
    "scores. Calculate the Pearson correlation coefficient between these two variables and interpret the result."
   ]
  },
  {
   "cell_type": "markdown",
   "id": "c8f0fc10-609e-45ab-913b-71c25e301ea2",
   "metadata": {},
   "source": [
    "To calculate the Pearson correlation coefficient between two variables, you'll need to follow these steps:\n",
    "\n",
    "Organize your data: You should have a dataset that includes the amount of time students spend studying (variable X) and their final exam scores (variable Y).\n",
    "\n",
    "Calculate the mean (average) of each variable:\n",
    "\n",
    "Calculate the mean (average) of the amount of time spent studying (X̄).\n",
    "Calculate the mean (average) of the final exam scores (Ȳ).\n",
    "Calculate the deviations from the mean for each data point:\n",
    "\n",
    "For each data point, subtract the mean of X (X̄) from the amount of time spent studying (X) to get the deviation of X.\n",
    "For each data point, subtract the mean of Y (Ȳ) from the final exam score (Y) to get the deviation of Y.\n",
    "Calculate the product of the deviations for each data point:\n",
    "\n",
    "For each data point, multiply the deviation of X by the deviation of Y.\n",
    "Sum up all the products of deviations.\n",
    "\n",
    "Calculate the sum of squared deviations for both X and Y:\n",
    "\n",
    "For each data point, square the deviation of X.\n",
    "For each data point, square the deviation of Y.\n",
    "Sum up these squared deviations for X and Y.\n",
    "Calculate the Pearson correlation coefficient (r) using the formula:\n",
    "r = Σ(X - X̄)(Y - Ȳ) / √[Σ(X - X̄)² * Σ(Y - Ȳ)²]\n",
    "\n",
    "Interpret the result:\n",
    "\n",
    "If r is close to +1, it indicates a strong positive linear relationship, meaning that as the amount of time spent studying increases, final exam scores also tend to increase.\n",
    "If r is close to -1, it indicates a strong negative linear relationship, meaning that as the amount of time spent studying increases, final exam scores tend to decrease.\n",
    "If r is close to 0, it suggests a weak or no linear relationship between the two variables.\n",
    "Keep in mind that the Pearson correlation coefficient only measures linear relationships. If the relationship between the amount of time spent studying and final exam scores is not linear, Pearson's correlation coefficient may not accurately capture the relationship."
   ]
  },
  {
   "cell_type": "markdown",
   "id": "2eb0a540-c5fc-4fcc-87fd-b41f4bb8ecae",
   "metadata": {},
   "source": [
    "Q2. Spearman's rank correlation is a measure of the monotonic relationship between two variables.\n",
    "Suppose you have collected data on the amount of sleep individuals get each night and their overall job\n",
    "satisfaction level on a scale of 1 to 10. Calculate the Spearman's rank correlation between these two\n",
    "variables and interpret the result."
   ]
  },
  {
   "cell_type": "markdown",
   "id": "1932f9bc-2f8f-4315-9067-1653a941f317",
   "metadata": {},
   "source": [
    "Spearman's rank correlation is a non-parametric measure of the monotonic relationship between two variables. It assesses whether there is a consistent monotonic trend between the variables, which means that as one variable increases, the other either consistently increases or consistently decreases, without requiring a linear relationship.\n",
    "\n",
    "To calculate Spearman's rank correlation between the amount of sleep individuals get each night and their overall job satisfaction level on a scale of 1 to 10, you can follow these steps:\n",
    "\n",
    "Collect your data: You should have a dataset that includes the amount of sleep (variable X) and the job satisfaction level (variable Y) for each individual.\n",
    "\n",
    "Rank the data: Assign ranks to both variables separately. For example, rank the amount of sleep from lowest to highest and rank the job satisfaction levels from lowest to highest.\n",
    "\n",
    "Calculate the differences in ranks for each pair of data points: Find the difference between the ranks for each individual's sleep and job satisfaction.\n",
    "\n",
    "Square the rank differences: Square each of the rank differences you calculated in step 3.\n",
    "\n",
    "Sum up the squared rank differences.\n",
    "\n",
    "Use the formula for Spearman's rank correlation (ρ):\n",
    "ρ = 1 - [6 * Σ(D²) / (n * (n² - 1))]\n",
    "\n",
    "Σ(D²) is the sum of the squared rank differences.\n",
    "n is the number of data points.\n",
    "Interpret the result:\n",
    "\n",
    "If ρ is close to +1, it indicates a strong monotonic positive relationship. This means that as the amount of sleep individuals get increases, their job satisfaction tends to increase in a consistent, monotonic manner.\n",
    "If ρ is close to -1, it indicates a strong monotonic negative relationship. This means that as the amount of sleep individuals get increases, their job satisfaction tends to decrease in a consistent, monotonic manner.\n",
    "If ρ is close to 0, it suggests a weak or no monotonic relationship between the two variables.\n",
    "Interpret the result of Spearman's rank correlation based on the magnitude and sign of ρ as described above. Unlike Pearson's correlation, Spearman's rank correlation does not assume a linear relationship and is more suitable for variables with monotonic but not necessarily linear associations."
   ]
  },
  {
   "cell_type": "markdown",
   "id": "7293939a-17b4-4035-bbd8-437935a0f6b6",
   "metadata": {},
   "source": [
    "Q3. Suppose you are conducting a study to examine the relationship between the number of hours of\n",
    "exercise per week and body mass index (BMI) in a sample of adults. You collected data on both variables\n",
    "for 50 participants. Calculate the Pearson correlation coefficient and the Spearman's rank correlation\n",
    "between these two variables and compare the results."
   ]
  },
  {
   "cell_type": "markdown",
   "id": "0da6bf02-5390-4032-b261-a866ffe3f2b6",
   "metadata": {},
   "source": [
    "To calculate both the Pearson correlation coefficient and Spearman's rank correlation for the relationship between the number of hours of exercise per week and body mass index (BMI) in your sample of 50 adults, follow these steps:\n",
    "\n",
    "Organize your data: You should have a dataset that includes the number of hours of exercise per week (variable X) and the corresponding BMI values (variable Y) for each of the 50 participants.\n",
    "\n",
    "Calculate the mean (average) of each variable:\n",
    "\n",
    "Calculate the mean (average) of the number of hours of exercise per week (X̄).\n",
    "Calculate the mean (average) of the BMI values (Ȳ).\n",
    "Calculate the standard deviation for each variable:\n",
    "\n",
    "Calculate the standard deviation of the number of hours of exercise per week (σX).\n",
    "Calculate the standard deviation of the BMI values (σY).\n",
    "Calculate the Pearson correlation coefficient (r) using the formula:\n",
    "r = Σ(X - X̄)(Y - Ȳ) / [σX * σY]\n",
    "\n",
    "Calculate the ranks for both variables:\n",
    "\n",
    "Rank the number of hours of exercise per week (variable X).\n",
    "Rank the BMI values (variable Y).\n",
    "Calculate the differences in ranks for each pair of data points.\n",
    "\n",
    "Square the rank differences.\n",
    "\n",
    "Calculate the sum of squared rank differences.\n",
    "\n",
    "Use the formula for Spearman's rank correlation (ρ):\n",
    "ρ = 1 - [6 * Σ(D²) / (n * (n² - 1))]\n",
    "\n",
    "Σ(D²) is the sum of the squared rank differences.\n",
    "n is the number of data points (50 in this case).\n",
    "Interpret the results:\n",
    "\n",
    "Compare the values of r and ρ to assess the strength and direction of the relationships.\n",
    "Here's what the results might indicate:\n",
    "\n",
    "If the Pearson correlation coefficient (r) is close to +1, it suggests a strong positive linear relationship between exercise hours and BMI, meaning that as exercise hours increase, BMI tends to decrease.\n",
    "If the Spearman's rank correlation (ρ) is close to +1, it indicates a strong monotonic positive relationship, which means that as exercise hours increase, BMI tends to decrease in a consistent, monotonic manner.\n",
    "If both r and ρ are close to 0, it suggests a weak or no relationship between the variables.\n",
    "If the signs of r and ρ differ significantly, it could indicate that the relationship between the variables is not linear but monotonic."
   ]
  },
  {
   "cell_type": "markdown",
   "id": "47eec51c-064b-4757-b885-fa60bbf4481c",
   "metadata": {},
   "source": [
    "Q4. A researcher is interested in examining the relationship between the number of hours individuals\n",
    "spend watching television per day and their level of physical activity. The researcher collected data on\n",
    "both variables from a sample of 50 participants. Calculate the Pearson correlation coefficient between\n",
    "these two variables."
   ]
  },
  {
   "cell_type": "markdown",
   "id": "c7decd94-b00e-496b-a8be-f00cb5e1e6c8",
   "metadata": {},
   "source": [
    "To calculate the Pearson correlation coefficient between the number of hours individuals spend watching television per day and their level of physical activity, you can follow these steps:\n",
    "\n",
    "Organize your data: You should have a dataset that includes the number of hours individuals spend watching television per day (variable X) and the level of physical activity (variable Y) for each of the 50 participants.\n",
    "\n",
    "Calculate the mean (average) of each variable:\n",
    "\n",
    "Calculate the mean (average) of the number of hours spent watching television per day (X̄).\n",
    "Calculate the mean (average) of the level of physical activity (Ȳ).\n",
    "Calculate the standard deviation for each variable:\n",
    "\n",
    "Calculate the standard deviation of the number of hours spent watching television per day (σX).\n",
    "Calculate the standard deviation of the level of physical activity (σY).\n",
    "Calculate the Pearson correlation coefficient (r) using the formula:\n",
    "r = Σ(X - X̄)(Y - Ȳ) / [σX * σY]\n",
    "\n",
    "Interpret the result:\n",
    "\n",
    "The Pearson correlation coefficient (r) will range from -1 to 1.\n",
    "If r is close to +1, it indicates a strong positive linear relationship, suggesting that as the number of hours individuals spend watching television per day increases, their level of physical activity tends to increase.\n",
    "If r is close to -1, it indicates a strong negative linear relationship, suggesting that as the number of hours spent watching television per day increases, their level of physical activity tends to decrease.\n",
    "If r is close to 0, it suggests a weak or no linear relationship between the two variables.\n",
    "The interpretation of the result depends on the actual value of the Pearson correlation coefficient (r) that you calculate from your data. A positive value of r indicates a positive relationship, a negative value indicates a negative relationship, and the magnitude of r indicates the strength of the relationship."
   ]
  },
  {
   "cell_type": "markdown",
   "id": "2cd84f59-889d-4e32-b703-862b0f979696",
   "metadata": {},
   "source": [
    "Q5. A survey was conducted to examine the relationship between age and preference for a particular\n",
    "brand of soft drink. The survey results are shown below:\n",
    "\n",
    "\n",
    "Age(Years)\n",
    "25   Coke\n",
    "42   Pepsi\n",
    "37   Mountain dew\n",
    "19   Coke\n",
    "31   Pepsi\n",
    "28   Coke\n"
   ]
  },
  {
   "cell_type": "markdown",
   "id": "bff26ff3-1e47-4a11-b155-c1e2d0c9f7ca",
   "metadata": {},
   "source": [
    "To examine the relationship between age and brand preference, you can use descriptive statistics and visualization techniques to gain insights from the data. Here's what you can do:\n",
    "\n",
    "Descriptive Statistics:\n",
    "\n",
    "Calculate basic descriptive statistics for the age variable, such as the mean, median, and standard deviation. This will help you understand the central tendency and dispersion of ages among the respondents.\n",
    "Frequency Distribution:\n",
    "\n",
    "Create a frequency distribution or a bar chart to show the distribution of brand preferences among the respondents. This will help you see which brand is preferred most frequently.\n",
    "Cross-tabulation:\n",
    "\n",
    "Create a cross-tabulation (also known as a contingency table) to analyze the relationship between age groups and brand preferences. You can group respondents into different age categories (e.g., 18-25, 26-35, 36-45, etc.) and then count how many respondents in each age group prefer each brand.\n",
    "Visualization:\n",
    "\n",
    "Create a scatterplot or a box plot to visualize the relationship between age and brand preference. Scatterplots can help you see if there's any apparent pattern or trend in the data, while box plots can show the distribution of ages for each brand.\n",
    "Statistical Analysis:\n",
    "\n",
    "If you want to assess the strength and significance of the relationship between age and brand preference, you could perform a statistical test, such as a chi-squared test or an analysis of variance (ANOVA), depending on the nature of your data and research questions."
   ]
  },
  {
   "cell_type": "markdown",
   "id": "8bf9bd53-e866-4f98-a8c5-069e094a3763",
   "metadata": {},
   "source": [
    "Q6. A company is interested in examining the relationship between the number of sales calls made per day\n",
    "and the number of sales made per week. The company collected data on both variables from a sample of\n",
    "30 sales representatives. Calculate the Pearson correlation coefficient between these two variables."
   ]
  },
  {
   "cell_type": "markdown",
   "id": "d8683269-5e85-4ce1-bf52-75f220e44800",
   "metadata": {},
   "source": [
    "To calculate the Pearson correlation coefficient between the number of sales calls made per day and the number of sales made per week for a sample of 30 sales representatives, you can follow these steps:\n",
    "\n",
    "Organize your data: You should have a dataset that includes the number of sales calls made per day (variable X) and the number of sales made per week (variable Y) for each of the 30 sales representatives.\n",
    "\n",
    "Calculate the mean (average) of each variable:\n",
    "\n",
    "Calculate the mean (average) of the number of sales calls made per day (X̄).\n",
    "Calculate the mean (average) of the number of sales made per week (Ȳ).\n",
    "Calculate the standard deviation for each variable:\n",
    "\n",
    "Calculate the standard deviation of the number of sales calls made per day (σX).\n",
    "Calculate the standard deviation of the number of sales made per week (σY).\n",
    "Calculate the Pearson correlation coefficient (r) using the formula:\n",
    "r = Σ(X - X̄)(Y - Ȳ) / [σX * σY]\n",
    "\n",
    "Interpret the result:\n",
    "\n",
    "The Pearson correlation coefficient (r) will range from -1 to 1.\n",
    "If r is close to +1, it indicates a strong positive linear relationship, suggesting that as the number of sales calls made per day increases, the number of sales made per week tends to increase.\n",
    "If r is close to -1, it indicates a strong negative linear relationship, suggesting that as the number of sales calls made per day increases, the number of sales made per week tends to decrease.\n",
    "If r is close to 0, it suggests a weak or no linear relationship between the two variables.\n",
    "The interpretation of the result depends on the actual value of the Pearson correlation coefficient (r) that you calculate from your data. The magnitude of r indicates the strength of the relationship, and the sign of r (positive or negative) indicates the direction of the relationship between the number of sales calls and the number of sales made."
   ]
  },
  {
   "cell_type": "code",
   "execution_count": null,
   "id": "e61f67cd-2de6-4c80-81e1-673d2bd58b88",
   "metadata": {},
   "outputs": [],
   "source": []
  }
 ],
 "metadata": {
  "kernelspec": {
   "display_name": "Python 3 (ipykernel)",
   "language": "python",
   "name": "python3"
  },
  "language_info": {
   "codemirror_mode": {
    "name": "ipython",
    "version": 3
   },
   "file_extension": ".py",
   "mimetype": "text/x-python",
   "name": "python",
   "nbconvert_exporter": "python",
   "pygments_lexer": "ipython3",
   "version": "3.10.8"
  }
 },
 "nbformat": 4,
 "nbformat_minor": 5
}
